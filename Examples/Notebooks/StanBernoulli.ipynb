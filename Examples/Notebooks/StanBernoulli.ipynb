{
 "metadata": {
  "kernelspec": {
   "codemirror_mode": {
    "name": "ipython",
    "version": 2
   },
   "display_name": "IPython (Python 2)",
   "language": "python",
   "name": "python2"
  },
  "language": "Julia",
  "name": "",
  "signature": "sha256:9db52615c24e69d0b622d2591df9d9a5c583a0bca8f897a7630e9b8d5dd90d07"
 },
 "nbformat": 3,
 "nbformat_minor": 0,
 "worksheets": [
  {
   "cells": [
    {
     "cell_type": "heading",
     "level": 1,
     "metadata": {},
     "source": [
      "Running the bernoulli.jl example on iJulia or JuliaBox"
     ]
    },
    {
     "cell_type": "markdown",
     "metadata": {},
     "source": [
      "Pkg.update() may be commented out although I make sure to run it at least once every couple of days."
     ]
    },
    {
     "cell_type": "code",
     "collapsed": false,
     "input": [
      "Pkg.update()"
     ],
     "language": "python",
     "metadata": {},
     "outputs": []
    },
    {
     "cell_type": "markdown",
     "metadata": {},
     "source": [
      "Removal of JuMP suppresses several warnings that occur between Gadfly and JuMP."
     ]
    },
    {
     "cell_type": "code",
     "collapsed": false,
     "input": [
      "Pkg.rm(\"JuMP\")"
     ],
     "language": "python",
     "metadata": {},
     "outputs": []
    },
    {
     "cell_type": "code",
     "collapsed": false,
     "input": [
      "cd(Pkg.dir(\"Stan\", \"Examples\", \"Bernoulli\"))"
     ],
     "language": "python",
     "metadata": {},
     "outputs": []
    },
    {
     "cell_type": "code",
     "collapsed": false,
     "input": [
      "include(\"bernoulli.jl\")"
     ],
     "language": "python",
     "metadata": {},
     "outputs": []
    },
    {
     "cell_type": "code",
     "collapsed": false,
     "input": [
      "p = plot(sim, [:trace, :mean, :density, :autocor], legend=true);"
     ],
     "language": "python",
     "metadata": {},
     "outputs": []
    },
    {
     "cell_type": "code",
     "collapsed": false,
     "input": [
      "draw(p, ncol=4)"
     ],
     "language": "python",
     "metadata": {},
     "outputs": []
    },
    {
     "cell_type": "markdown",
     "metadata": {},
     "source": [
      "All intermediate files produced by Stan are stored in subdirectory \"tmp\" of the current working directory, e.g. on my machine it will be in \"~/.julia/v0.3/Stan/Examples/Bernoulli/tmp\". Below cell will remove the entire \"tmp\" subdirectory. This also means the next time Stan will have to compile and build the executable again. Commented out for now."
     ]
    },
    {
     "cell_type": "code",
     "collapsed": false,
     "input": [
      "#isdir(\"tmp\") && rm(\"tmp\", recursive=true)"
     ],
     "language": "python",
     "metadata": {},
     "outputs": []
    },
    {
     "cell_type": "code",
     "collapsed": false,
     "input": [
      ";ls"
     ],
     "language": "python",
     "metadata": {},
     "outputs": []
    },
    {
     "cell_type": "code",
     "collapsed": false,
     "input": [],
     "language": "python",
     "metadata": {},
     "outputs": []
    }
   ],
   "metadata": {}
  }
 ]
}