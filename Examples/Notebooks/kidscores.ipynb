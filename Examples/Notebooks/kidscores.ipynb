{
 "metadata": {
  "language": "Julia",
  "name": "",
  "signature": "sha256:eac764fbd43fb8df40187e021c1b0b3a6ee03212ab9e98ff73f1db4f2200e069"
 },
 "nbformat": 3,
 "nbformat_minor": 0,
 "worksheets": [
  {
   "cells": [
    {
     "cell_type": "code",
     "collapsed": false,
     "input": [
      "######### ARM Ch03: kid score example  ###########\n",
      "\n",
      "using DataFrames, Stan\n",
      "\n",
      "old=pwd()\n",
      "ProjDir = Pkg.dir(\"Stan\")*\"/Examples/ARM/Data/\"\n",
      "kidscore = readtable(ProjDir*\"kid.csv\");\n",
      "head(kidscore)"
     ],
     "language": "python",
     "metadata": {},
     "outputs": [
      {
       "html": [
        "<table><tr><th></th><th>x</th><th>kid_score</th><th>mom_hs</th><th>mom_iq</th><th>mom_work</th><th>mom_age</th></tr><tr><th>1</th><td>1</td><td>65</td><td>1</td><td>121.117528602603</td><td>4</td><td>27</td></tr><tr><th>2</th><td>2</td><td>98</td><td>1</td><td>89.3618817100663</td><td>4</td><td>25</td></tr><tr><th>3</th><td>3</td><td>85</td><td>1</td><td>115.443164881725</td><td>4</td><td>27</td></tr><tr><th>4</th><td>4</td><td>83</td><td>1</td><td>99.4496394360723</td><td>3</td><td>25</td></tr><tr><th>5</th><td>5</td><td>115</td><td>1</td><td>92.7457099982118</td><td>4</td><td>27</td></tr><tr><th>6</th><td>6</td><td>98</td><td>0</td><td>107.901837758501</td><td>1</td><td>18</td></tr></table>"
       ],
       "metadata": {},
       "output_type": "pyout",
       "prompt_number": 3,
       "text": [
        "6x6 DataFrame\n",
        "|-------|---|-----------|--------|---------|----------|---------|\n",
        "| Row # | x | kid_score | mom_hs | mom_iq  | mom_work | mom_age |\n",
        "| 1     | 1 | 65        | 1      | 121.118 | 4        | 27      |\n",
        "| 2     | 2 | 98        | 1      | 89.3619 | 4        | 25      |\n",
        "| 3     | 3 | 85        | 1      | 115.443 | 4        | 27      |\n",
        "| 4     | 4 | 83        | 1      | 99.4496 | 3        | 25      |\n",
        "| 5     | 5 | 115       | 1      | 92.7457 | 4        | 27      |\n",
        "| 6     | 6 | 98        | 0      | 107.902 | 1        | 18      |"
       ]
      }
     ],
     "prompt_number": 3
    },
    {
     "cell_type": "code",
     "collapsed": false,
     "input": [
      "stanmodel = Model(name=\"kid\")\n",
      "data_file = \"kid.data.R\"\n",
      "ProjDir = homedir()*\"/.julia/v0.3/Stan/Examples/ARM/Ch03/Kid/\";"
     ],
     "language": "python",
     "metadata": {},
     "outputs": [],
     "prompt_number": 4
    },
    {
     "cell_type": "code",
     "collapsed": false,
     "input": [
      "df = stan(stanmodel, data_file, ProjDir);"
     ],
     "language": "python",
     "metadata": {},
     "outputs": [
      {
       "output_type": "stream",
       "stream": "stdout",
       "text": [
        "\n"
       ]
      },
      {
       "output_type": "stream",
       "stream": "stdout",
       "text": [
        "\n"
       ]
      },
      {
       "output_type": "stream",
       "stream": "stdout",
       "text": [
        "--- Translating Stan model to C++ code ---\n",
        "bin/stanc /Users/rob/.julia/v0.3/Stan/Examples/ARM/Ch03/Kid//kid.stan --o=/Users/rob/.julia/v0.3/Stan/Examples/ARM/Ch03/Kid//kid.cpp\n",
        "Model name=kid_model\n",
        "Input file=/Users/rob/.julia/v0.3/Stan/Examples/ARM/Ch03/Kid//kid.stan\n",
        "Output file=/Users/rob/.julia/v0.3/Stan/Examples/ARM/Ch03/Kid//kid.cpp\n"
       ]
      },
      {
       "output_type": "stream",
       "stream": "stdout",
       "text": [
        "clang++ -I src -isystem lib/eigen_3.2.0 -isystem lib/boost_1.54.0 -Wall -DBOOST_RESULT_OF_USE_TR1 -DBOOST_NO_DECLTYPE -DBOOST_DISABLE_ASSERTS -pipe -DEIGEN_NO_DEBUG -Wno-unused-function -Wno-tautological-compare -Wno-c++11-long-long -stdlib=libc++ -std=c++11 -ftemplate-depth=256   -c -O3 -o /Users/rob/.julia/v0.3/Stan/Examples/ARM/Ch03/Kid//kid.o /Users/rob/.julia/v0.3/Stan/Examples/ARM/Ch03/Kid//kid.cpp\n"
       ]
      },
      {
       "output_type": "stream",
       "stream": "stdout",
       "text": [
        "\n"
       ]
      },
      {
       "output_type": "stream",
       "stream": "stdout",
       "text": [
        "--- Linking C++ model ---\n",
        "clang++ -I src -isystem lib/eigen_3.2.0 -isystem lib/boost_1.54.0 -Wall -DBOOST_RESULT_OF_USE_TR1 -DBOOST_NO_DECLTYPE -DBOOST_DISABLE_ASSERTS -pipe -DEIGEN_NO_DEBUG -Wno-unused-function -Wno-tautological-compare -Wno-c++11-long-long -stdlib=libc++ -std=c++11 -ftemplate-depth=256    -O3 -o /Users/rob/.julia/v0.3/Stan/Examples/ARM/Ch03/Kid//kid /Users/rob/.julia/v0.3/Stan/Examples/ARM/Ch03/Kid//kid.o -Lbin -lstan\n"
       ]
      },
      {
       "output_type": "stream",
       "stream": "stdout",
       "text": [
        "\n"
       ]
      },
      {
       "output_type": "stream",
       "stream": "stdout",
       "text": [
        "Inference for Stan model: kid_model\n",
        "4 chains: each with iter=(100,100,100,100); warmup=(0,0,0,0); thin=(10,10,10,10); 400 iterations saved.\n",
        "\n",
        "Warmup took (3.8, 4.8, 5.1, 6.1) seconds, 20 seconds total\n",
        "Sampling took (2.3, 2.3, 2.4, 2.1) seconds, 9.1 seconds total\n",
        "\n",
        "                 Mean     MCSE   StdDev     5%    50%    95%  N_Eff  N_Eff/s    R_hat\n",
        "lp__            -1472  7.1e-02  1.4e+00  -1475  -1472  -1471    391       43  1.0e+00\n",
        "accept_stat__    0.94  4.5e-03  8.1e-02   0.77   0.98    1.0    322       35  1.0e+00\n",
        "stepsize__      0.098  2.3e-03  3.3e-03  0.093   0.10   0.10    2.0     0.22  1.2e+14\n",
        "treedepth__       4.6  5.7e-02  1.1e+00    2.0    5.0    6.0    400       44  1.0e+00\n",
        "n_leapfrog__       27  7.9e-01  1.6e+01    3.0     31     63    400       44  9.9e-01\n",
        "n_divergent__    0.00  0.0e+00  0.0e+00   0.00   0.00   0.00    400       44      nan\n",
        "beta[1]            27  3.0e-01  6.0e+00     17     27     37    398       44  1.0e+00\n",
        "beta[2]           6.0  1.5e-01  2.3e+00    2.3    6.1    9.8    247       27  1.0e+00\n",
        "beta[3]          0.55  3.1e-03  6.1e-02   0.45   0.56   0.65    400       44  1.0e+00\n",
        "sigma              18  3.1e-02  6.2e-01     17     18     19    400       44  9.9e-01\n",
        "\n",
        "Samples were drawn using hmc with nuts.\n",
        "For each parameter, N_Eff is a crude measure of effective sample size,\n",
        "and R_hat is the potential scale reduction factor on split chains (at \n",
        "convergence, R_hat=1).\n",
        "\n"
       ]
      }
     ],
     "prompt_number": 5
    },
    {
     "cell_type": "code",
     "collapsed": false,
     "input": [
      "head(df)"
     ],
     "language": "python",
     "metadata": {},
     "outputs": [
      {
       "html": [
        "<table><tr><th></th><th>lp__</th><th>accept_stat__</th><th>stepsize__</th><th>treedepth__</th><th>n_leapfrog__</th><th>n_divergent__</th><th>beta_1</th><th>beta_2</th><th>beta_3</th><th>sigma</th></tr><tr><th>1</th><td>-1476.56</td><td>0.708038</td><td>0.0981086</td><td>2</td><td>3</td><td>0</td><td>27.8951</td><td>1.01414</td><td>0.559124</td><td>18.9081</td></tr><tr><th>2</th><td>-1472.73</td><td>0.997449</td><td>0.0981086</td><td>5</td><td>31</td><td>0</td><td>37.6033</td><td>6.86387</td><td>0.442426</td><td>17.7162</td></tr><tr><th>3</th><td>-1472.93</td><td>0.999506</td><td>0.0981086</td><td>6</td><td>63</td><td>0</td><td>30.8545</td><td>9.84539</td><td>0.484563</td><td>18.9299</td></tr><tr><th>4</th><td>-1474.76</td><td>0.964701</td><td>0.0981086</td><td>4</td><td>15</td><td>0</td><td>37.3945</td><td>4.3124</td><td>0.454365</td><td>17.0986</td></tr><tr><th>5</th><td>-1473.29</td><td>1.0</td><td>0.0981086</td><td>5</td><td>31</td><td>0</td><td>17.8882</td><td>7.81812</td><td>0.622887</td><td>17.0683</td></tr><tr><th>6</th><td>-1473.54</td><td>0.564483</td><td>0.0981086</td><td>3</td><td>7</td><td>0</td><td>21.6239</td><td>2.6258</td><td>0.613597</td><td>18.0752</td></tr></table>"
       ],
       "metadata": {},
       "output_type": "pyout",
       "prompt_number": 6,
       "text": [
        "6x10 DataFrame\n",
        "|-------|----------|---------------|------------|-------------|--------------|\n",
        "| Row # | lp__     | accept_stat__ | stepsize__ | treedepth__ | n_leapfrog__ |\n",
        "| 1     | -1476.56 | 0.708038      | 0.0981086  | 2           | 3            |\n",
        "| 2     | -1472.73 | 0.997449      | 0.0981086  | 5           | 31           |\n",
        "| 3     | -1472.93 | 0.999506      | 0.0981086  | 6           | 63           |\n",
        "| 4     | -1474.76 | 0.964701      | 0.0981086  | 4           | 15           |\n",
        "| 5     | -1473.29 | 1.0           | 0.0981086  | 5           | 31           |\n",
        "| 6     | -1473.54 | 0.564483      | 0.0981086  | 3           | 7            |\n",
        "\n",
        "|-------|---------------|---------|---------|----------|---------|\n",
        "| Row # | n_divergent__ | beta_1  | beta_2  | beta_3   | sigma   |\n",
        "| 1     | 0             | 27.8951 | 1.01414 | 0.559124 | 18.9081 |\n",
        "| 2     | 0             | 37.6033 | 6.86387 | 0.442426 | 17.7162 |\n",
        "| 3     | 0             | 30.8545 | 9.84539 | 0.484563 | 18.9299 |\n",
        "| 4     | 0             | 37.3945 | 4.3124  | 0.454365 | 17.0986 |\n",
        "| 5     | 0             | 17.8882 | 7.81812 | 0.622887 | 17.0683 |\n",
        "| 6     | 0             | 21.6239 | 2.6258  | 0.613597 | 18.0752 |"
       ]
      }
     ],
     "prompt_number": 6
    },
    {
     "cell_type": "code",
     "collapsed": false,
     "input": [],
     "language": "python",
     "metadata": {},
     "outputs": [],
     "prompt_number": 10
    }
   ],
   "metadata": {}
  }
 ]
}