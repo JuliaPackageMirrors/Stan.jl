{
 "metadata": {
  "kernelspec": {
   "codemirror_mode": {
    "name": "ipython",
    "version": 2
   },
   "display_name": "IPython (Python 2)",
   "language": "python",
   "name": "python2"
  },
  "language": "Julia",
  "name": "",
  "signature": "sha256:f7ce7233eb67257dede2f92bd15d4a8045d4dcffeb8237ba7c4ccf0a62332e3b"
 },
 "nbformat": 3,
 "nbformat_minor": 0,
 "worksheets": [
  {
   "cells": [
    {
     "cell_type": "heading",
     "level": 1,
     "metadata": {},
     "source": [
      "Stan Bernoulli notebook example for iJulia and JuliaBox"
     ]
    },
    {
     "cell_type": "markdown",
     "metadata": {},
     "source": [
      "Pkg.update() is commented out although I make sure to run it at least once every couple of days."
     ]
    },
    {
     "cell_type": "code",
     "collapsed": false,
     "input": [
      "#Pkg.update()"
     ],
     "language": "python",
     "metadata": {},
     "outputs": []
    },
    {
     "cell_type": "markdown",
     "metadata": {},
     "source": [
      "Removal of JuMP only suppresses two spurious warnings that occur between Gadfly and JuMP."
     ]
    },
    {
     "cell_type": "code",
     "collapsed": false,
     "input": [
      "#Pkg.rm(\"JuMP\")"
     ],
     "language": "python",
     "metadata": {},
     "outputs": []
    },
    {
     "cell_type": "code",
     "collapsed": false,
     "input": [
      "#Pkg.checkout(\"Stan\")"
     ],
     "language": "python",
     "metadata": {},
     "outputs": []
    },
    {
     "cell_type": "markdown",
     "metadata": {},
     "source": []
    },
    {
     "cell_type": "code",
     "collapsed": false,
     "input": [
      "CMDSTAN_HOME = isdefined(Main, :CMDSTAN_HOME) ? CMDSTAN_HOME :  ENV[\"CMDSTAN_HOME\"]"
     ],
     "language": "python",
     "metadata": {},
     "outputs": [
      {
       "metadata": {},
       "output_type": "pyout",
       "prompt_number": 1,
       "text": [
        "\"/Users/rob/Projects/Stan/cmdstan\""
       ]
      }
     ],
     "prompt_number": 1
    },
    {
     "cell_type": "code",
     "collapsed": false,
     "input": [
      "cd(Pkg.dir(\"Stan\", \"Examples\", \"Bernoulli\"))"
     ],
     "language": "python",
     "metadata": {},
     "outputs": []
    },
    {
     "cell_type": "code",
     "collapsed": false,
     "input": [
      "include(\"bernoulli.jl\")"
     ],
     "language": "python",
     "metadata": {},
     "outputs": []
    },
    {
     "cell_type": "code",
     "collapsed": false,
     "input": [
      "p = plot(sim, [:trace, :mean, :density, :autocor], legend=true);"
     ],
     "language": "python",
     "metadata": {},
     "outputs": []
    },
    {
     "cell_type": "code",
     "collapsed": false,
     "input": [
      "draw(p, ncol=4)"
     ],
     "language": "python",
     "metadata": {},
     "outputs": []
    },
    {
     "cell_type": "markdown",
     "metadata": {},
     "source": [
      "All intermediate files produced by Stan are stored in subdirectory \"tmp\" of the current working directory, e.g. on my machine it will be in \"~/.julia/v0.3/Stan/Examples/Bernoulli/tmp\". Below cell will remove the entire \"tmp\" subdirectory. This also means the next time Stan will have to compile and build the executable again. Commented out for now."
     ]
    },
    {
     "cell_type": "code",
     "collapsed": false,
     "input": [
      "#isdir(\"tmp\") && rm(\"tmp\", recursive=true)"
     ],
     "language": "python",
     "metadata": {},
     "outputs": []
    },
    {
     "cell_type": "code",
     "collapsed": false,
     "input": [
      ";ls"
     ],
     "language": "python",
     "metadata": {},
     "outputs": []
    },
    {
     "cell_type": "code",
     "collapsed": false,
     "input": [],
     "language": "python",
     "metadata": {},
     "outputs": []
    }
   ],
   "metadata": {}
  }
 ]
}